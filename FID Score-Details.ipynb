{
 "cells": [
  {
   "cell_type": "markdown",
   "id": "hawaiian-cheese",
   "metadata": {},
   "source": [
    "# Load Libraries"
   ]
  },
  {
   "cell_type": "code",
   "execution_count": 2,
   "id": "southeast-array",
   "metadata": {},
   "outputs": [],
   "source": [
    "import tensorflow\n",
    "import os,sys\n",
    "import numpy\n",
    "from numpy import cov\n",
    "from numpy import trace\n",
    "from numpy import iscomplexobj\n",
    "from numpy import asarray\n",
    "from numpy.random import shuffle\n",
    "from scipy.linalg import sqrtm\n",
    "from keras.applications.inception_v3 import InceptionV3\n",
    "from keras.applications.inception_v3 import preprocess_input\n",
    "from keras.datasets.mnist import load_data\n",
    "from skimage.transform import resize\n",
    "from keras.datasets import cifar10\n",
    "\n",
    "import numpy as np\n",
    "import random\n",
    "\n",
    "import tensorflow as tf\n",
    "random.seed(1)\n",
    "np.random.seed(1)\n",
    "tf.random.set_seed(2)"
   ]
  },
  {
   "cell_type": "code",
   "execution_count": 2,
   "id": "crucial-thesis",
   "metadata": {},
   "outputs": [],
   "source": [
    "import os\n",
    "# os.getcwd()\n",
    "# print(os.listdir())"
   ]
  },
  {
   "cell_type": "code",
   "execution_count": 16,
   "id": "8ec31dd2",
   "metadata": {},
   "outputs": [
    {
     "name": "stdout",
     "output_type": "stream",
     "text": [
      "(100, 20)\n",
      "(100, 20)\n"
     ]
    }
   ],
   "source": [
    "aa = np.random.randint(1,1000,(100,20))\n",
    "print(aa.shape)\n",
    "bb = np.random.randint(1,1000,(100,20))\n",
    "print(bb.shape)"
   ]
  },
  {
   "cell_type": "markdown",
   "id": "criminal-shark",
   "metadata": {},
   "source": [
    "# FID Score Function "
   ]
  },
  {
   "cell_type": "code",
   "execution_count": 22,
   "id": "destroyed-arabic",
   "metadata": {},
   "outputs": [],
   "source": [
    "# calculate frechet inception distance\n",
    "def calculate_fid(act1, act2):\n",
    "    # calculate mean and covariance statistics\n",
    "    mu1, sigma1 = act1.mean(axis=0), cov(act1, rowvar=False)\n",
    "    mu2, sigma2 = act2.mean(axis=0), cov(act2, rowvar=False)\n",
    "    print(\"Shape of mu1: \",mu1.shape, \"Shape of mu2: \",mu2.shape)\n",
    "    print(\"Shape of cov1: \", sigma1.shape,\"Shape of cov2: \",sigma2.shape)\n",
    "    # calculate sum squared difference between means\n",
    "    ssdiff = numpy.sum((mu1 - mu2)**2.0)\n",
    "    # print(ssdiff.shape)\n",
    "    # calculate sqrt of product between cov\n",
    "    covmean = sqrtm(sigma1.dot(sigma2))\n",
    "    # check and correct imaginary numbers from sqrt\n",
    "    if iscomplexobj(covmean):\n",
    "        covmean = covmean.real\n",
    "    # calculate score\n",
    "    fid = ssdiff + trace(sigma1 + sigma2 - 2.0 * covmean)\n",
    "    return fid"
   ]
  },
  {
   "cell_type": "markdown",
   "id": "described-mentor",
   "metadata": {},
   "source": [
    "# Calculate FID Score"
   ]
  },
  {
   "cell_type": "code",
   "execution_count": 23,
   "id": "hungarian-laugh",
   "metadata": {},
   "outputs": [
    {
     "name": "stdout",
     "output_type": "stream",
     "text": [
      "Shape of mu1:  (20,) Shape of mu2:  (20,)\n",
      "Shape of cov1:  (20, 20) Shape of cov2:  (20, 20)\n",
      "()\n"
     ]
    }
   ],
   "source": [
    "# calculate fid\n",
    "fid = calculate_fid(aa, bb)\n",
    "# print('FID: %.3f' % fid)"
   ]
  },
  {
   "cell_type": "code",
   "execution_count": 19,
   "id": "rubber-darwin",
   "metadata": {},
   "outputs": [
    {
     "name": "stdout",
     "output_type": "stream",
     "text": [
      "FID Score: 210580.727758\n"
     ]
    }
   ],
   "source": [
    "print('FID Score: %.6f' % fid)"
   ]
  },
  {
   "cell_type": "code",
   "execution_count": null,
   "id": "empirical-announcement",
   "metadata": {},
   "outputs": [],
   "source": []
  },
  {
   "cell_type": "code",
   "execution_count": null,
   "id": "therapeutic-confidence",
   "metadata": {},
   "outputs": [],
   "source": []
  }
 ],
 "metadata": {
  "kernelspec": {
   "display_name": "Python 3 (ipykernel)",
   "language": "python",
   "name": "python3"
  },
  "language_info": {
   "codemirror_mode": {
    "name": "ipython",
    "version": 3
   },
   "file_extension": ".py",
   "mimetype": "text/x-python",
   "name": "python",
   "nbconvert_exporter": "python",
   "pygments_lexer": "ipython3",
   "version": "3.9.12"
  }
 },
 "nbformat": 4,
 "nbformat_minor": 5
}
